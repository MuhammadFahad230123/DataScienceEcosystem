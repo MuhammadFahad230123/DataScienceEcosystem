{
 "cells": [
  {
   "cell_type": "code",
   "execution_count": 1,
   "id": "5057a93b-938c-42ae-ae2e-f4360eeacf26",
   "metadata": {
    "tags": []
   },
   "outputs": [],
   "source": [
    "# Creating markdown cell with title of the notebook"
   ]
  },
  {
   "cell_type": "markdown",
   "id": "f3ef67ce-a6b9-41f1-99d5-517c5c46d815",
   "metadata": {},
   "source": [
    "# Data Science Tools and Ecosystem"
   ]
  },
  {
   "cell_type": "code",
   "execution_count": 2,
   "id": "0a616487-9ac1-44b4-8406-493065b148e9",
   "metadata": {
    "tags": []
   },
   "outputs": [],
   "source": [
    "# Creating a markdown cell for an introduction"
   ]
  },
  {
   "cell_type": "markdown",
   "id": "b8099aff-65fe-4db3-a602-0caf148c5a33",
   "metadata": {},
   "source": [
    "## In this notebook, Data Science Tools and Ecosystem are summarized."
   ]
  },
  {
   "cell_type": "markdown",
   "id": "8ff044b2-22f7-4506-91e4-dd820b952a10",
   "metadata": {
    "tags": []
   },
   "source": [
    "## **Objectives**:\n",
    "* Ordered list of Some of the popular languages that Data Scientists\n",
    "* Ordered list of Some of the commonly used libraries used by Data Scientists\n",
    "* Creating a table of Data Science tools\n",
    "* Evaluating arithmetic expressions in Python\n",
    "* converting minutes to hours\n",
    "* Author's Name"
   ]
  },
  {
   "cell_type": "code",
   "execution_count": 14,
   "id": "0f415609-87b6-4586-bd04-c510696bc66a",
   "metadata": {
    "tags": []
   },
   "outputs": [],
   "source": [
    "# Creating a markdown cell to list data science languages"
   ]
  },
  {
   "cell_type": "markdown",
   "id": "25b9bd19-4375-4e7d-9245-e8ba5fd93306",
   "metadata": {
    "tags": []
   },
   "source": [
    "### Ordered list of Some of the popular languages that Data Scientists use are:"
   ]
  },
  {
   "cell_type": "markdown",
   "id": "15e9a85b-bbd2-4636-b65a-3337bb1d0986",
   "metadata": {
    "tags": []
   },
   "source": [
    "1. Python\n",
    "2. R.\n",
    "3. SQL\n",
    "4. Java\n",
    "5. Julia\n",
    "6. Scala\n",
    "7. Javascript\n",
    "8. C/C++"
   ]
  },
  {
   "cell_type": "code",
   "execution_count": 5,
   "id": "75199976-7614-46be-a719-a4df85b331c6",
   "metadata": {
    "tags": []
   },
   "outputs": [],
   "source": [
    "# Creating a markdown cell to list data science libraries"
   ]
  },
  {
   "cell_type": "markdown",
   "id": "7a2cccdb-a941-4e78-9b38-d825674c7ce0",
   "metadata": {
    "tags": []
   },
   "source": [
    "### Ordered list of Some of the commonly used libraries used by Data Scientists include:"
   ]
  },
  {
   "cell_type": "markdown",
   "id": "aae8480b-10b1-4c15-9dad-0851efb4d424",
   "metadata": {
    "tags": []
   },
   "source": [
    "1. Pandas\n",
    "2. NumPy\n",
    "3. Pytorch\n",
    "4. Sci-kit learn\n",
    "5. Keras\n",
    "6. Tensorflow"
   ]
  },
  {
   "cell_type": "code",
   "execution_count": 7,
   "id": "de9f8643-8846-4ad1-9312-4d7081dd55f4",
   "metadata": {
    "tags": []
   },
   "outputs": [],
   "source": [
    "# Creating a markdown cell with a table of Data Science tools"
   ]
  },
  {
   "cell_type": "markdown",
   "id": "f1953d36-950e-4b07-8068-15d7ba2011db",
   "metadata": {},
   "source": [
    "| **Data Science Tools**|\n",
    "|---------------------|\n",
    "|Jupyter Notebook|\n",
    "|RStudio|\n",
    "|Ananconda Navigator|\n",
    "|Visual Studio Code|\n",
    "|Streamlit|\n",
    "|Spyder|"
   ]
  },
  {
   "cell_type": "code",
   "execution_count": 8,
   "id": "25ba5757-349b-42f6-9e7c-f5792aa75746",
   "metadata": {
    "tags": []
   },
   "outputs": [],
   "source": [
    "# Creating a markdown cell introducing arithmetic expression examples"
   ]
  },
  {
   "cell_type": "markdown",
   "id": "5450e671-4b4e-4dcb-9324-6fcb685fc8f8",
   "metadata": {
    "tags": []
   },
   "source": [
    "### Below are a few examples of evaluating arithmetic expressions in Python"
   ]
  },
  {
   "cell_type": "code",
   "execution_count": 10,
   "id": "826929b6-111d-48f8-a15a-d90f8e7c4b7c",
   "metadata": {
    "tags": []
   },
   "outputs": [],
   "source": [
    "# This a simple arithmetic expression to mutiply then add integers."
   ]
  },
  {
   "cell_type": "code",
   "execution_count": 9,
   "id": "b1b5feb2-6a9f-4075-a792-669c3ba800cf",
   "metadata": {
    "tags": []
   },
   "outputs": [
    {
     "data": {
      "text/plain": [
       "17"
      ]
     },
     "execution_count": 9,
     "metadata": {},
     "output_type": "execute_result"
    }
   ],
   "source": [
    "(3*4)+5"
   ]
  },
  {
   "cell_type": "code",
   "execution_count": 15,
   "id": "26bd9767-e317-4ceb-a5b0-bab76594bb99",
   "metadata": {
    "tags": []
   },
   "outputs": [],
   "source": [
    "# Creating a code cell to convert minutes to hours"
   ]
  },
  {
   "cell_type": "code",
   "execution_count": 12,
   "id": "46dcdf9a-e4d6-46d8-8d4b-3cdeadbba4f6",
   "metadata": {
    "tags": []
   },
   "outputs": [],
   "source": [
    "# This will convert 200 minutes to hours by diving by 60."
   ]
  },
  {
   "cell_type": "code",
   "execution_count": 13,
   "id": "ec63374a-a3af-4eed-aafd-8d5b60a95f05",
   "metadata": {
    "tags": []
   },
   "outputs": [
    {
     "data": {
      "text/plain": [
       "3.3333333333333335"
      ]
     },
     "execution_count": 13,
     "metadata": {},
     "output_type": "execute_result"
    }
   ],
   "source": [
    "200/60"
   ]
  },
  {
   "cell_type": "markdown",
   "id": "0561450f-50a4-42c7-aa35-67b16e5d17f9",
   "metadata": {
    "tags": []
   },
   "source": [
    "## Author\n",
    "Muhammad Fahad"
   ]
  }
 ],
 "metadata": {
  "kernelspec": {
   "display_name": "Python",
   "language": "python",
   "name": "conda-env-python-py"
  },
  "language_info": {
   "codemirror_mode": {
    "name": "ipython",
    "version": 3
   },
   "file_extension": ".py",
   "mimetype": "text/x-python",
   "name": "python",
   "nbconvert_exporter": "python",
   "pygments_lexer": "ipython3",
   "version": "3.7.12"
  }
 },
 "nbformat": 4,
 "nbformat_minor": 5
}
